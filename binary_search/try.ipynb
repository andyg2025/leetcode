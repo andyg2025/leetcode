{
 "cells": [
  {
   "cell_type": "code",
   "execution_count": 2,
   "metadata": {},
   "outputs": [],
   "source": [
    "# get the last element that bigger than the target\n",
    "def bs1(arr, t):\n",
    "    l, r = 0, len(arr)\n",
    "    while l<r:\n",
    "        mid = (l+r)//2\n",
    "        if arr[mid]>t:\n",
    "            r=mid\n",
    "        else:\n",
    "            l=mid+1\n",
    "    return l"
   ]
  },
  {
   "cell_type": "code",
   "execution_count": 3,
   "metadata": {},
   "outputs": [],
   "source": [
    "arr = [1, 3, 4, 6, 6, 8, 9]\n",
    "t = 6"
   ]
  },
  {
   "cell_type": "code",
   "execution_count": 4,
   "metadata": {},
   "outputs": [
    {
     "data": {
      "text/plain": [
       "5"
      ]
     },
     "execution_count": 4,
     "metadata": {},
     "output_type": "execute_result"
    }
   ],
   "source": [
    "bs1(arr, t)"
   ]
  },
  {
   "cell_type": "code",
   "execution_count": 5,
   "metadata": {},
   "outputs": [],
   "source": [
    "# get the first target element\n",
    "def bs2(arr, t):\n",
    "    l, r = 0, len(arr)\n",
    "    while l<r:\n",
    "        mid = (l+r)//2\n",
    "        if arr[mid]>=t:\n",
    "            r=mid\n",
    "        else:\n",
    "            l=mid+1\n",
    "    return l"
   ]
  },
  {
   "cell_type": "code",
   "execution_count": 6,
   "metadata": {},
   "outputs": [
    {
     "data": {
      "text/plain": [
       "3"
      ]
     },
     "execution_count": 6,
     "metadata": {},
     "output_type": "execute_result"
    }
   ],
   "source": [
    "bs2(arr, t)"
   ]
  },
  {
   "cell_type": "code",
   "execution_count": 7,
   "metadata": {},
   "outputs": [
    {
     "data": {
      "text/plain": [
       "0"
      ]
     },
     "execution_count": 7,
     "metadata": {},
     "output_type": "execute_result"
    }
   ],
   "source": [
    "bs1(arr, 0)"
   ]
  },
  {
   "cell_type": "code",
   "execution_count": 9,
   "metadata": {},
   "outputs": [
    {
     "data": {
      "text/plain": [
       "0"
      ]
     },
     "execution_count": 9,
     "metadata": {},
     "output_type": "execute_result"
    }
   ],
   "source": [
    "bs2(arr, 0)"
   ]
  },
  {
   "cell_type": "code",
   "execution_count": 11,
   "metadata": {},
   "outputs": [],
   "source": [
    "from typing import List\n",
    "\n",
    "class Solution:\n",
    "    def insert(self, intervals: List[List[int]], newInterval: List[int]) -> List[List[int]]:\n",
    "\n",
    "        [start, end] = self.bs(intervals, newInterval)\n",
    "\n",
    "        print(start, end)\n",
    "        if end<start:\n",
    "            return intervals\n",
    "\n",
    "        if start>0 and intervals[start-1][1] >= newInterval[0]:\n",
    "            start-=1\n",
    "            newInterval[0] = intervals[start][0]\n",
    "\n",
    "        if end < len(intervals) and intervals[end][0] == newInterval[1]:\n",
    "            newInterval[1]=intervals[end][1]\n",
    "            end+=1\n",
    "\n",
    "        return intervals[:start] + [newInterval] + intervals[end:]\n",
    "\n",
    "    def bs(self, intervals, newInterval):\n",
    "        result=[]\n",
    "        l,r=0,len(intervals)\n",
    "        while l<r:\n",
    "            mid = (l+r)//2\n",
    "            if intervals[mid][0] >= newInterval[0]:\n",
    "                r=mid\n",
    "            else:\n",
    "                l=mid+1\n",
    "        result.append(l)\n",
    "\n",
    "        l,r=0,len(intervals)\n",
    "        while l<r:\n",
    "            mid = (l+r)//2\n",
    "            if intervals[mid][1] >= newInterval[1]:\n",
    "                r=mid\n",
    "            else:\n",
    "                l=mid+1\n",
    "        result.append(l)\n",
    "\n",
    "        return result"
   ]
  },
  {
   "cell_type": "code",
   "execution_count": 12,
   "metadata": {},
   "outputs": [
    {
     "name": "stdout",
     "output_type": "stream",
     "text": [
      "0 0\n",
      "[[0, 3], [1, 5]]\n"
     ]
    }
   ],
   "source": [
    "intervals = [[1,5]]\n",
    "newInterval = [0,3]\n",
    "\n",
    "s = Solution()\n",
    "result = s.insert(intervals, newInterval)\n",
    "print(result)"
   ]
  },
  {
   "cell_type": "code",
   "execution_count": 1,
   "metadata": {},
   "outputs": [
    {
     "data": {
      "text/plain": [
       "[2]"
      ]
     },
     "execution_count": 1,
     "metadata": {},
     "output_type": "execute_result"
    }
   ],
   "source": [
    "triangle = [[2],[3,4],[6,5,7],[4,1,8,3]]\n",
    "dp = [triangle[0][0]]\n",
    "dp"
   ]
  },
  {
   "cell_type": "code",
   "execution_count": 5,
   "metadata": {},
   "outputs": [
    {
     "data": {
      "text/plain": [
       "'$b*a*b*a*d$'"
      ]
     },
     "execution_count": 5,
     "metadata": {},
     "output_type": "execute_result"
    }
   ],
   "source": [
    "s = \"babad\"\n",
    "s1 = '$'+ '*'.join(s) + '$'\n",
    "s1"
   ]
  },
  {
   "cell_type": "code",
   "execution_count": 6,
   "metadata": {},
   "outputs": [
    {
     "name": "stdout",
     "output_type": "stream",
     "text": [
      "0 1\n",
      "0 2\n",
      "0 3\n",
      "1 4\n"
     ]
    }
   ],
   "source": [
    "edges = [[0,1],[0,2],[0,3],[1,4]]\n",
    "for [a, b] in edges:\n",
    "    print(a, b)"
   ]
  },
  {
   "cell_type": "code",
   "execution_count": 7,
   "metadata": {},
   "outputs": [
    {
     "data": {
      "text/plain": [
       "[[], [], [], [], []]"
      ]
     },
     "execution_count": 7,
     "metadata": {},
     "output_type": "execute_result"
    }
   ],
   "source": [
    "graph = [[]]*5\n",
    "graph"
   ]
  },
  {
   "cell_type": "code",
   "execution_count": null,
   "metadata": {},
   "outputs": [],
   "source": [
    "from typing import List\n",
    "from collections import deque\n",
    "\n",
    "class Solution:\n",
    "    def validTree(self, n: int, edges: List[List[int]]) -> bool:        \n",
    "        graph = [ set() for _ in range(n)]\n",
    "        for [a,b] in edges:\n",
    "            graph[a].add(b)\n",
    "            graph[b].add(a)\n",
    "\n",
    "        result = [0]*n\n",
    "\n",
    "        que = deque()\n",
    "        \n",
    "        for i in range(n):\n",
    "            if len(graph[i]) == 1:\n",
    "                que.append(i)\n",
    "            if not graph[i]:\n",
    "                result[i]=1\n",
    "        \n",
    "        while que:\n",
    "            print(que)\n",
    "            node = que.popleft()\n",
    "            for e in graph[node]:\n",
    "                graph[e].remove(node)\n",
    "                result[node]=1\n",
    "            if len(graph[e])==1:\n",
    "                que.append(e)\n",
    "            if not graph[e] and len(que)>1:\n",
    "                    return False\n",
    "\n",
    "        print(result)\n",
    "        \n",
    "        return sum(result)==(n-1)"
   ]
  },
  {
   "cell_type": "code",
   "execution_count": 10,
   "metadata": {},
   "outputs": [
    {
     "name": "stdout",
     "output_type": "stream",
     "text": [
      "deque([2, 3, 4])\n",
      "deque([3, 4])\n",
      "deque([4, 0])\n",
      "deque([0, 1])\n"
     ]
    }
   ],
   "source": [
    "edges = [[0,1],[0,2],[0,3],[1,4]]\n",
    "n=5\n",
    "s = Solution()\n",
    "result = s.validTree(n, edges)"
   ]
  },
  {
   "cell_type": "code",
   "execution_count": null,
   "metadata": {},
   "outputs": [
    {
     "name": "stdout",
     "output_type": "stream",
     "text": [
      "0 1\n",
      "0 2\n",
      "0 3\n",
      "1 4\n"
     ]
    }
   ],
   "source": [
    "edges = [[0,1],[0,2],[0,3],[1,4]]\n",
    "for [a,b] in edges:\n",
    "    print(a,b)"
   ]
  },
  {
   "cell_type": "code",
   "execution_count": 15,
   "metadata": {},
   "outputs": [
    {
     "name": "stdout",
     "output_type": "stream",
     "text": [
      "0 1\n",
      "0 2\n"
     ]
    }
   ],
   "source": [
    "edges = [(0,1),(0,2)]\n",
    "for (a,b) in edges:\n",
    "    print(a,b)"
   ]
  }
 ],
 "metadata": {
  "kernelspec": {
   "display_name": "Python 3",
   "language": "python",
   "name": "python3"
  },
  "language_info": {
   "codemirror_mode": {
    "name": "ipython",
    "version": 3
   },
   "file_extension": ".py",
   "mimetype": "text/x-python",
   "name": "python",
   "nbconvert_exporter": "python",
   "pygments_lexer": "ipython3",
   "version": "3.13.2"
  }
 },
 "nbformat": 4,
 "nbformat_minor": 2
}
