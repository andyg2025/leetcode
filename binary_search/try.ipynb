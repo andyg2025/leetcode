{
 "cells": [
  {
   "cell_type": "code",
   "execution_count": null,
   "metadata": {},
   "outputs": [],
   "source": [
    "arr = [0,1,2,3]\n",
    "l,r=0,len(arr)\n",
    "mid = (l,r)//2\n",
    "# mid always the smaller one?\n",
    "# if 0,1, then 0\n",
    "# if 1,2  then 1\n",
    "# that is right, because the 1 is opne one, that is not contained?\n",
    "# so, if there is only one elements in this arrange, like 4, then the l,r = 4,5"
   ]
  },
  {
   "cell_type": "code",
   "execution_count": null,
   "metadata": {},
   "outputs": [],
   "source": [
    "condition = arr[mid]>3\n",
    "# or\n",
    "condition = arr[mid]>arr[mid-1]\n",
    "# or\n",
    "condition = arr[mid]>arr[0]\n",
    "\n",
    "if condition:\n",
    "    l = mid+1\n",
    "else:\n",
    "    r = mid\n",
    "\n",
    "# this is always works well, why?\n",
    "# why l = mid+1\n",
    "# because mid is already checked, and mid is not the wantted index\n",
    "# the core of this algrithm is that, to using the contdition, or judgement to find the certain index that we wanted\n",
    "# like if it is that target value, or biger or smaller than certain value, like the common binary search\n",
    "# so, if we using the >value as condition, then, if bigger, it should be out of the next arrange. and the target is the one that is not bigger than value\n",
    "# if there are lots of the same value, then the first one is the return index, like:"
   ]
  },
  {
   "cell_type": "code",
   "execution_count": 20,
   "metadata": {},
   "outputs": [
    {
     "data": {
      "text/plain": [
       "2"
      ]
     },
     "execution_count": 20,
     "metadata": {},
     "output_type": "execute_result"
    }
   ],
   "source": [
    "def bs(arr, target):\n",
    "    l,r = 0, len(arr)\n",
    "    while l<r:\n",
    "        mid = (l+r)//2\n",
    "        if arr[mid] < target:\n",
    "            l = mid+1\n",
    "        else:\n",
    "            r = mid\n",
    "    \n",
    "    return l\n",
    "\n",
    "array = [0,1,2,2,2,3,4]\n",
    "target = 2\n",
    "bs(array, target)"
   ]
  },
  {
   "cell_type": "code",
   "execution_count": null,
   "metadata": {},
   "outputs": [],
   "source": [
    "# if the condition changed to be arr[mid]<=target, then the result is at 5, kind of the last element that is bigger than the target\n",
    "# it seems that it is not possible to get the last target element in this way, because of the (] way of the arrage?\n",
    "# that is because there is alway two elements, that between the contdition:\n",
    "# like if contditin = arr[mid] < target, the last judgement is at [1,2], and it will judge the mid one, which is smaller one here:'1', and then move to the 2\n",
    "# if condition=arr[mid]<=target, the last is [2,3], and also judge 2, which then go to 3"
   ]
  },
  {
   "cell_type": "code",
   "execution_count": null,
   "metadata": {},
   "outputs": [],
   "source": [
    "# for leetcode162, the condition is nums[mid]>nums[mid-1]:\n"
   ]
  },
  {
   "cell_type": "code",
   "execution_count": 21,
   "metadata": {},
   "outputs": [],
   "source": [
    "from typing import List\n",
    "\n",
    "def findPeakElement(nums: List[int]) -> int:\n",
    "    l,r = 0,len(nums)\n",
    "    while l<r:\n",
    "        mid = (l+r)//2\n",
    "        if nums[mid]>nums[mid-1]:\n",
    "            l=mid+1\n",
    "        else:\n",
    "            r=mid\n",
    "    return l-1"
   ]
  },
  {
   "cell_type": "code",
   "execution_count": 24,
   "metadata": {},
   "outputs": [
    {
     "name": "stdout",
     "output_type": "stream",
     "text": [
      "2\n"
     ]
    }
   ],
   "source": [
    "nums = [2,3,4,3,2]\n",
    "print(findPeakElement(nums))"
   ]
  },
  {
   "cell_type": "code",
   "execution_count": 25,
   "metadata": {},
   "outputs": [],
   "source": [
    "# binary search: []\n",
    "\n",
    "def bsoo(arr, target):\n",
    "    l,r = 0,len(arr)-1\n",
    "    while l<r:\n",
    "        mid = (l+r)//2\n",
    "        if arr[mid] < target:\n",
    "            l = mid+1\n",
    "        else:\n",
    "            r = mid\n",
    "    return r"
   ]
  },
  {
   "cell_type": "code",
   "execution_count": 30,
   "metadata": {},
   "outputs": [
    {
     "data": {
      "text/plain": [
       "2"
      ]
     },
     "execution_count": 30,
     "metadata": {},
     "output_type": "execute_result"
    }
   ],
   "source": [
    "array = [1,3,4,4,4,4,4,4,4,5,7,9]\n",
    "target = 4\n",
    "\n",
    "bsoo(array, target)"
   ]
  },
  {
   "cell_type": "code",
   "execution_count": 36,
   "metadata": {},
   "outputs": [],
   "source": [
    "def bsoc(arr, target):\n",
    "    l,r=0,len(arr)-1\n",
    "    while l<r:\n",
    "        mid = (l+r)//2\n",
    "        if arr[mid]<=target:\n",
    "            l = mid+1\n",
    "        else:\n",
    "            r = mid\n",
    "    return r"
   ]
  },
  {
   "cell_type": "code",
   "execution_count": null,
   "metadata": {},
   "outputs": [
    {
     "data": {
      "text/plain": [
       "9"
      ]
     },
     "execution_count": 37,
     "metadata": {},
     "output_type": "execute_result"
    }
   ],
   "source": [
    "array = [1,3,4,4,4,4,4,4,4,5,7,9]\n",
    "target = 4\n",
    "\n",
    "bsoc(array, target)\n"
   ]
  }
 ],
 "metadata": {
  "kernelspec": {
   "display_name": ".venv",
   "language": "python",
   "name": "python3"
  },
  "language_info": {
   "codemirror_mode": {
    "name": "ipython",
    "version": 3
   },
   "file_extension": ".py",
   "mimetype": "text/x-python",
   "name": "python",
   "nbconvert_exporter": "python",
   "pygments_lexer": "ipython3",
   "version": "3.12.10"
  }
 },
 "nbformat": 4,
 "nbformat_minor": 2
}
