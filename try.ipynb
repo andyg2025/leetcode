{
 "cells": [
  {
   "cell_type": "code",
   "execution_count": 7,
   "metadata": {},
   "outputs": [],
   "source": [
    "from typing import List\n",
    "\n",
    "def binary_search(cap_index: List, target:int)->int:\n",
    "    l, r = 0, len(cap_index)\n",
    "    while l<r:\n",
    "        mid = (l+r)//2\n",
    "        if cap_index[mid] < target:\n",
    "            l = mid+1\n",
    "        else:\n",
    "            r = mid\n",
    "    return l"
   ]
  },
  {
   "cell_type": "code",
   "execution_count": 8,
   "metadata": {},
   "outputs": [
    {
     "data": {
      "text/plain": [
       "3"
      ]
     },
     "execution_count": 8,
     "metadata": {},
     "output_type": "execute_result"
    }
   ],
   "source": [
    "cap_index = [1,2,3,4,4,4,4,4,4,4,4,4,4,4,5]\n",
    "res = binary_search(cap_index, 4)\n",
    "res"
   ]
  },
  {
   "cell_type": "code",
   "execution_count": 46,
   "metadata": {},
   "outputs": [],
   "source": [
    "import heapq"
   ]
  },
  {
   "cell_type": "code",
   "execution_count": null,
   "metadata": {},
   "outputs": [],
   "source": [
    "import heapq\n",
    "\n",
    "def findMaxSum(nums1, nums2, k):\n",
    "            new_nums = [[value, index] for index, value in enumerate(nums1)]\n",
    "            new_nums.sort()\n",
    "            result = [0] * len(nums1)\n",
    "            temp = []\n",
    "            cur_sum = 0\n",
    "            heap = []\n",
    "\n",
    "            for val, i in new_nums:\n",
    "                if not temp:\n",
    "                    temp = [i]\n",
    "                    continue\n",
    "                if nums1[temp[0]] == val:\n",
    "                    temp.append(i)\n",
    "                    result[i] = cur_sum\n",
    "                else:\n",
    "                    for index in temp:\n",
    "                        if len(heap) == k and heap[0] > nums2[index]:\n",
    "                            continue\n",
    "                        heapq.heappush(heap, nums2[index])\n",
    "                        cur_sum += nums2[index]\n",
    "                        if len(heap) > k:\n",
    "                            cur_sum -= heapq.heappop(heap)\n",
    "\n",
    "                    # for index in temp:\n",
    "                    #     heapq.heappush(heap, nums2[index])\n",
    "                    #     cur_sum+=nums2[index]\n",
    "                    # while len(heap) > k:\n",
    "                    #     cur_sum -= heapq.heappop(heap)\n",
    "                    \n",
    "                    result[i] = cur_sum\n",
    "                    temp = [i]\n",
    "\n",
    "            return result"
   ]
  },
  {
   "cell_type": "code",
   "execution_count": 19,
   "metadata": {},
   "outputs": [
    {
     "data": {
      "text/plain": [
       "[80, 30, 0, 80, 50]"
      ]
     },
     "execution_count": 19,
     "metadata": {},
     "output_type": "execute_result"
    }
   ],
   "source": [
    "nums1 = [4,2,1,5,3]\n",
    "nums2 = [10,20,30,40,50]\n",
    "k = 2\n",
    "\n",
    "\n",
    "result = findMaxSum(nums1, nums2, k)\n",
    "result"
   ]
  },
  {
   "cell_type": "code",
   "execution_count": 4,
   "metadata": {},
   "outputs": [],
   "source": [
    "def help(n, c):\n",
    "    result = 1\n",
    "    for i in range(0, n):\n",
    "        result *= (c-i)\n",
    "        result //= i+1\n",
    "    \n",
    "    return result"
   ]
  },
  {
   "cell_type": "code",
   "execution_count": 9,
   "metadata": {},
   "outputs": [
    {
     "data": {
      "text/plain": [
       "20"
      ]
     },
     "execution_count": 9,
     "metadata": {},
     "output_type": "execute_result"
    }
   ],
   "source": [
    "res = help(3, 6)\n",
    "res"
   ]
  },
  {
   "cell_type": "code",
   "execution_count": 1,
   "metadata": {},
   "outputs": [
    {
     "name": "stdout",
     "output_type": "stream",
     "text": [
      "1 5\n"
     ]
    }
   ],
   "source": [
    "a = [1, 5]\n",
    "l, r = a\n",
    "print(l, r)"
   ]
  },
  {
   "cell_type": "code",
   "execution_count": 4,
   "metadata": {},
   "outputs": [],
   "source": [
    "def help(arr):\n",
    "    newarr = a[:]\n",
    "    newarr.append(1)\n",
    "    arr = newarr[:]\n"
   ]
  },
  {
   "cell_type": "code",
   "execution_count": 7,
   "metadata": {},
   "outputs": [],
   "source": [
    "arr = [1,2]\n",
    "\n",
    "def help():\n",
    "    arr.append(9)\n",
    "    return arr"
   ]
  },
  {
   "cell_type": "code",
   "execution_count": null,
   "metadata": {},
   "outputs": [
    {
     "name": "stdout",
     "output_type": "stream",
     "text": [
      "[1, 2, 9]\n"
     ]
    }
   ],
   "source": []
  },
  {
   "cell_type": "code",
   "execution_count": 9,
   "metadata": {},
   "outputs": [
    {
     "data": {
      "text/plain": [
       "{1, 2}"
      ]
     },
     "execution_count": 9,
     "metadata": {},
     "output_type": "execute_result"
    }
   ],
   "source": [
    "a = set()\n",
    "a.add(1)\n",
    "a.add(2)\n",
    "a"
   ]
  },
  {
   "cell_type": "code",
   "execution_count": 10,
   "metadata": {},
   "outputs": [
    {
     "data": {
      "text/plain": [
       "{1}"
      ]
     },
     "execution_count": 10,
     "metadata": {},
     "output_type": "execute_result"
    }
   ],
   "source": [
    "a.remove(2)\n",
    "a"
   ]
  },
  {
   "cell_type": "code",
   "execution_count": 25,
   "metadata": {},
   "outputs": [
    {
     "data": {
      "text/plain": [
       "[6]"
      ]
     },
     "execution_count": 25,
     "metadata": {},
     "output_type": "execute_result"
    }
   ],
   "source": [
    "a = [5,6,7]\n",
    "b = [5,7]\n",
    "for n in b:\n",
    "    a.remove(n)\n",
    "a"
   ]
  },
  {
   "cell_type": "code",
   "execution_count": 28,
   "metadata": {},
   "outputs": [],
   "source": [
    "from typing import List\n",
    "def numIslands2(m: int, n: int, positions: List[List[int]]) -> List[int]:\n",
    "    islands = []\n",
    "    result = []\n",
    "    \n",
    "    for r, c in positions:\n",
    "        newisland = set()\n",
    "        removed = []\n",
    "        print(islands)\n",
    "        for island in islands:\n",
    "            if (r,c) in island or (r-1>=0 and (r-1, c) in island) or (r+1<m and (r+1, c) in island) or (c-1>=0 and (r, c-1) in island) or (c+1<n and (r, c+1) in island):\n",
    "                print('check ok!')\n",
    "                newisland |= island\n",
    "                removed.append(island)\n",
    "\n",
    "        for island in removed:\n",
    "            islands.remove(island)\n",
    "\n",
    "        newisland.add((r,c))\n",
    "        islands.append(newisland)\n",
    "        result.append(len(islands))\n",
    "\n",
    "    return result"
   ]
  },
  {
   "cell_type": "code",
   "execution_count": 29,
   "metadata": {},
   "outputs": [
    {
     "name": "stdout",
     "output_type": "stream",
     "text": [
      "[]\n",
      "[{(0, 0)}]\n",
      "check ok!\n",
      "[{(0, 1), (0, 0)}]\n",
      "[{(0, 1), (0, 0)}, {(1, 2)}]\n"
     ]
    },
    {
     "data": {
      "text/plain": [
       "[1, 1, 2, 3]"
      ]
     },
     "execution_count": 29,
     "metadata": {},
     "output_type": "execute_result"
    }
   ],
   "source": [
    "positions =[[0,0],[0,1],[1,2],[2,1]]\n",
    "m=3\n",
    "n=3\n",
    "res = numIslands2(m, n, positions)\n",
    "res"
   ]
  },
  {
   "cell_type": "code",
   "execution_count": 41,
   "metadata": {},
   "outputs": [],
   "source": [
    "from typing import List\n",
    "\n",
    "class Node:\n",
    "    def __init__(self, position: tuple[int, int]):\n",
    "        self.position = position\n",
    "        self.parent = None\n",
    "\n",
    "class Solution:\n",
    "    def get_parent(self, node: Node):\n",
    "        while node.parent:\n",
    "            node = node.parent\n",
    "        return node\n",
    "\n",
    "    def numIslands2(self, m: int, n: int, positions: List[List[int]]) -> List[int]:\n",
    "        result = []\n",
    "        p_node = {}\n",
    "        count = 0\n",
    "\n",
    "        for x,y in positions:\n",
    "            print('position:', x, y)\n",
    "            if (x,y) in p_node:\n",
    "                result.append(count)\n",
    "                continue\n",
    "\n",
    "            new_node = Node((x,y))\n",
    "            p_node[(x,y)] = new_node\n",
    "            count += 1\n",
    "\n",
    "            connected = set()\n",
    "\n",
    "            for x1, y1 in [ (x+1, y), (x-1, y), (x, y+1), (x, y-1)]:\n",
    "                if x1<0 or x1>=m or y1<0 or y1>=n or (x1, y1) not in p_node:\n",
    "                    continue\n",
    "\n",
    "                cur_node = p_node[(x1,y1)]\n",
    "                cur_parent = self.get_parent(cur_node)\n",
    "                connected.add(cur_parent)\n",
    "                print(cur_parent.position)\n",
    "            \n",
    "            count -= len(connected)\n",
    "            result.append(count)\n",
    "\n",
    "            for node in connected:\n",
    "                node.parent = new_node\n",
    "            \n",
    "        return result"
   ]
  },
  {
   "cell_type": "code",
   "execution_count": 42,
   "metadata": {},
   "outputs": [
    {
     "name": "stdout",
     "output_type": "stream",
     "text": [
      "position: 0 0\n",
      "position: 0 1\n",
      "(0, 0)\n",
      "position: 1 2\n",
      "position: 1 2\n"
     ]
    },
    {
     "data": {
      "text/plain": [
       "[1, 1, 2, 2]"
      ]
     },
     "execution_count": 42,
     "metadata": {},
     "output_type": "execute_result"
    }
   ],
   "source": [
    "positions =[[0,0],[0,1],[1,2],[1,2]]\n",
    "m=3\n",
    "n=3\n",
    "s = Solution()\n",
    "res = s.numIslands2(m, n, positions)\n",
    "res"
   ]
  },
  {
   "cell_type": "code",
   "execution_count": null,
   "metadata": {},
   "outputs": [],
   "source": [
    "from typing import List\n",
    "\n",
    "def findMinHeightTrees(n: int, edges: List[List[int]]) -> List[int]:\n",
    "    grap = [set() for _ in range(n)]\n",
    "    for a,b in edges:\n",
    "        grap[a].add(b)\n",
    "        grap[b].add(a)\n",
    "\n",
    "    memory = {}\n",
    "\n",
    "    def get_hight(node):\n",
    "        hight = 0\n",
    "        for n in grap[node]:\n",
    "            cur_hight = 0\n",
    "            if (node, n) in memory:\n",
    "                hight =  memory[(node, n)]\n",
    "            else:\n",
    "                grap[n].remove(node)\n",
    "                cur_hight = get_hight(n)\n",
    "                memory[(node, n)] = cur_hight\n",
    "                grap[n].add(node)\n",
    "            hight = max(hight, cur_hight)\n",
    "        return hight+1\n",
    "    \n",
    "    min_hight = n+1\n",
    "    nodes = []\n",
    "    for i in range(n):\n",
    "        hight = get_hight(i)\n",
    "        if hight==min_hight:\n",
    "            nodes.append(i)\n",
    "        elif hight<min_hight:\n",
    "            min_hight = hight\n",
    "            nodes=[i]\n",
    "    \n",
    "    return nodes"
   ]
  },
  {
   "cell_type": "code",
   "execution_count": 20,
   "metadata": {},
   "outputs": [
    {
     "name": "stdout",
     "output_type": "stream",
     "text": [
      "grah[node]:\n",
      "{1}\n",
      "grah[node]:\n",
      "{2, 3}\n",
      "grah[node]:\n",
      "set()\n",
      "grah[node]:\n",
      "set()\n",
      "{(1, 2): 1, (1, 3): 1, (0, 1): 2}\n",
      "grah[node]:\n",
      "{0, 2, 3}\n",
      "grah[node]:\n",
      "set()\n",
      "{(1, 2): 1, (1, 3): 1, (0, 1): 2, (1, 0): 1}\n",
      "grah[node]:\n",
      "{1}\n",
      "grah[node]:\n",
      "{0, 3}\n",
      "{(1, 2): 1, (1, 3): 1, (0, 1): 2, (1, 0): 1, (2, 1): 2}\n",
      "grah[node]:\n",
      "{1}\n",
      "grah[node]:\n",
      "{0, 2}\n",
      "{(1, 2): 1, (1, 3): 1, (0, 1): 2, (1, 0): 1, (2, 1): 2, (3, 1): 2}\n"
     ]
    },
    {
     "data": {
      "text/plain": [
       "[1]"
      ]
     },
     "execution_count": 20,
     "metadata": {},
     "output_type": "execute_result"
    }
   ],
   "source": [
    "n = 4\n",
    "edges = [[1,0],[1,2],[1,3]]\n",
    "findMinHeightTrees(n, edges)"
   ]
  },
  {
   "cell_type": "code",
   "execution_count": 26,
   "metadata": {},
   "outputs": [],
   "source": [
    "from typing import List\n",
    "\n",
    "def findMinHeightTrees(n: int, edges: List[List[int]]) -> List[int]:\n",
    "    \n",
    "    graph = [set() for _ in range(n)]\n",
    "\n",
    "    for a,b in edges:\n",
    "        graph[a].add(b)\n",
    "        graph[b].add(a)\n",
    "\n",
    "    print(graph)\n",
    "\n",
    "    leaves = [ node for node in range(n) if len(graph[node])==1 ]\n",
    "\n",
    "    num_left_node = n\n",
    "    while n>3:\n",
    "        n-=len(leaves)\n",
    "        new_leaves = []\n",
    "        for leaf in leaves:\n",
    "            pre = graph[leaf].pop()\n",
    "            graph[pre].remove(leaf)\n",
    "            if len(graph[pre])==1:\n",
    "                new_leaves.append(pre)\n",
    "\n",
    "        leaves = new_leaves[:]\n",
    "\n",
    "    return leaves"
   ]
  },
  {
   "cell_type": "code",
   "execution_count": 27,
   "metadata": {},
   "outputs": [
    {
     "name": "stdout",
     "output_type": "stream",
     "text": [
      "[{1}, {0, 2, 3}, {1}, {1}]\n"
     ]
    },
    {
     "data": {
      "text/plain": [
       "[1]"
      ]
     },
     "execution_count": 27,
     "metadata": {},
     "output_type": "execute_result"
    }
   ],
   "source": [
    "n = 4\n",
    "edges = [[1,0],[1,2],[1,3]]\n",
    "findMinHeightTrees(n, edges)"
   ]
  },
  {
   "cell_type": "code",
   "execution_count": 5,
   "metadata": {},
   "outputs": [],
   "source": [
    "# 305\n",
    "from typing import List\n",
    "\n",
    "def numIslands2(m: int, n: int, positions: List[List[int]]) -> List[int]:\n",
    "    roots = {}\n",
    "    count = 0\n",
    "    result = []\n",
    "\n",
    "    def find_root(node):\n",
    "        while node != roots[node]:\n",
    "            node = roots[node]\n",
    "        return node\n",
    "\n",
    "    for x,y in positions:\n",
    "        if (x,y) in roots:\n",
    "            result.append(count)\n",
    "            continue\n",
    "\n",
    "        roots[(x,y)] = (x,y)\n",
    "        count += 1\n",
    "        connected = set()\n",
    "        for (x1, y1) in [(x+1, y), (x-1, y), (x, y+1), (x, y-1)]:\n",
    "            if x1<0 or x1>=m or y1<0 or y1>=n or (x1, y1) not in roots:\n",
    "                continue\n",
    "            \n",
    "            root = find_root((x1, y1))\n",
    "            connected.add(root)\n",
    "\n",
    "        count -= len(connected)\n",
    "        \n",
    "        if connected:\n",
    "            new_root = connected.pop()\n",
    "            roots[(x,y)] = new_root\n",
    "            for node in connected:\n",
    "                roots[node] = new_root\n",
    "            \n",
    "        \n",
    "        result.append(count)\n",
    "\n",
    "    return result"
   ]
  },
  {
   "cell_type": "code",
   "execution_count": 6,
   "metadata": {},
   "outputs": [
    {
     "data": {
      "text/plain": [
       "[1, 1, 2, 3]"
      ]
     },
     "execution_count": 6,
     "metadata": {},
     "output_type": "execute_result"
    }
   ],
   "source": [
    "m = 3\n",
    "n = 3\n",
    "positions = [[0,0],[0,1],[1,2],[2,1]]\n",
    "numIslands2(m, n, positions)"
   ]
  },
  {
   "cell_type": "code",
   "execution_count": 20,
   "metadata": {},
   "outputs": [],
   "source": [
    "# 310\n",
    "\n",
    "from typing import List\n",
    "\n",
    "def findMinHeightTrees(n: int, edges: List[List[int]]) -> List[int]:\n",
    "    if n==1:\n",
    "        return [0]\n",
    "\n",
    "    graph = [set() for _ in range(n)]\n",
    "\n",
    "    for a,b in edges:\n",
    "        graph[a].add(b)\n",
    "        graph[b].add(a)\n",
    "    \n",
    "    leaves = []\n",
    "    for i in range(n):\n",
    "        if len(graph[i]) == 1:\n",
    "            leaves.append(i)\n",
    "\n",
    "    while len(leaves)>2:\n",
    "        new_leaves = []\n",
    "        for leaf in leaves:\n",
    "            parent = graph[leaf].pop()\n",
    "            graph[parent].remove(leaf)\n",
    "            if len(graph[parent]) == 1:\n",
    "                new_leaves.append(parent)\n",
    "        leaves = new_leaves[:]\n",
    "    \n",
    "    return leaves"
   ]
  },
  {
   "cell_type": "code",
   "execution_count": 18,
   "metadata": {},
   "outputs": [
    {
     "data": {
      "text/plain": [
       "[1]"
      ]
     },
     "execution_count": 18,
     "metadata": {},
     "output_type": "execute_result"
    }
   ],
   "source": [
    "n = 4\n",
    "edges = [[1,0],[1,2],[1,3]]\n",
    "result = findMinHeightTrees(n, edges)\n",
    "result"
   ]
  },
  {
   "cell_type": "code",
   "execution_count": 52,
   "metadata": {},
   "outputs": [],
   "source": [
    "def earliestAcq(logs: List[List[int]], n: int) -> int:\n",
    "    logs.sort()\n",
    "    roots = {}\n",
    "    leaves = set()\n",
    "\n",
    "    def find_root(node):\n",
    "        while roots[node] != node:\n",
    "            node = roots[node]\n",
    "        return node\n",
    "\n",
    "    for i in range(n):\n",
    "        roots[i] = i\n",
    "        leaves.add(i)\n",
    "\n",
    "    for t, x, y in logs:\n",
    "        root = find_root(x)\n",
    "        new_root = find_root(y)\n",
    "        if root == new_root:\n",
    "            continue\n",
    "        roots[root] = new_root\n",
    "\n",
    "        leaves.remove(root)\n",
    "        if len(leaves) == 1:\n",
    "            return t\n",
    "    \n",
    "    return -1"
   ]
  },
  {
   "cell_type": "code",
   "execution_count": 53,
   "metadata": {},
   "outputs": [
    {
     "data": {
      "text/plain": [
       "20190301"
      ]
     },
     "execution_count": 53,
     "metadata": {},
     "output_type": "execute_result"
    }
   ],
   "source": [
    "logs = [[20190101,0,1],[20190104,3,4],[20190107,2,3],[20190211,1,5],[20190224,2,4],[20190301,0,3],[20190312,1,2],[20190322,4,5]]\n",
    "n = 6\n",
    "\n",
    "res = earliestAcq(logs, n)\n",
    "res"
   ]
  },
  {
   "cell_type": "code",
   "execution_count": 1,
   "metadata": {},
   "outputs": [
    {
     "data": {
      "text/plain": [
       "[1, 3, 2, 5, 11, 7, 4]"
      ]
     },
     "execution_count": 1,
     "metadata": {},
     "output_type": "execute_result"
    }
   ],
   "source": [
    "nums = [1, 3, 2, 5, 11, 7, 4]\n",
    "nums[4:].sort()\n",
    "nums"
   ]
  },
  {
   "cell_type": "code",
   "execution_count": null,
   "metadata": {},
   "outputs": [
    {
     "data": {
      "text/plain": [
       "'..Q..'"
      ]
     },
     "execution_count": 9,
     "metadata": {},
     "output_type": "execute_result"
    }
   ],
   "source": [
    "basic_str = ['.']*5\n",
    "basic_str[2]='Q'\n",
    "basic_str\n",
    "new=''.join(basic_str)\n",
    "new"
   ]
  },
  {
   "cell_type": "code",
   "execution_count": 4,
   "metadata": {},
   "outputs": [
    {
     "ename": "TypeError",
     "evalue": "'str' object does not support item assignment",
     "output_type": "error",
     "traceback": [
      "\u001b[31m---------------------------------------------------------------------------\u001b[39m",
      "\u001b[31mTypeError\u001b[39m                                 Traceback (most recent call last)",
      "\u001b[36mCell\u001b[39m\u001b[36m \u001b[39m\u001b[32mIn[4]\u001b[39m\u001b[32m, line 1\u001b[39m\n\u001b[32m----> \u001b[39m\u001b[32m1\u001b[39m \u001b[43mbasic_str\u001b[49m\u001b[43m[\u001b[49m\u001b[32;43m2\u001b[39;49m\u001b[43m]\u001b[49m = \u001b[33m'\u001b[39m\u001b[33mQ\u001b[39m\u001b[33m'\u001b[39m\n\u001b[32m      2\u001b[39m basic_str\n",
      "\u001b[31mTypeError\u001b[39m: 'str' object does not support item assignment"
     ]
    }
   ],
   "source": [
    "basic_str[2] = 'Q'\n",
    "basic_str"
   ]
  },
  {
   "cell_type": "code",
   "execution_count": 5,
   "metadata": {},
   "outputs": [
    {
     "ename": "TypeError",
     "evalue": "'str' object does not support item assignment",
     "output_type": "error",
     "traceback": [
      "\u001b[31m---------------------------------------------------------------------------\u001b[39m",
      "\u001b[31mTypeError\u001b[39m                                 Traceback (most recent call last)",
      "\u001b[36mCell\u001b[39m\u001b[36m \u001b[39m\u001b[32mIn[5]\u001b[39m\u001b[32m, line 2\u001b[39m\n\u001b[32m      1\u001b[39m basic_str = \u001b[33m'\u001b[39m\u001b[33m.....\u001b[39m\u001b[33m'\u001b[39m\n\u001b[32m----> \u001b[39m\u001b[32m2\u001b[39m \u001b[43mbasic_str\u001b[49m\u001b[43m[\u001b[49m\u001b[32;43m3\u001b[39;49m\u001b[43m]\u001b[49m = \u001b[33m'\u001b[39m\u001b[33mq\u001b[39m\u001b[33m'\u001b[39m\n",
      "\u001b[31mTypeError\u001b[39m: 'str' object does not support item assignment"
     ]
    }
   ],
   "source": [
    "basic_str = '.....'\n",
    "basic_str[3] = 'q'"
   ]
  },
  {
   "cell_type": "code",
   "execution_count": null,
   "metadata": {},
   "outputs": [],
   "source": [
    "class Solution:\n",
    "    def partition(self, s: str) -> List[List[str]]:\n",
    "        def is_palindrome(sub):\n",
    "            return sub == sub[::-1]\n",
    "\n",
    "        def backtrack(start, path):\n",
    "            if start == len(s):\n",
    "                res.append(path[:])\n",
    "                return\n",
    "\n",
    "            for end in range(start + 1, len(s) + 1):\n",
    "                if is_palindrome(s[start:end]):\n",
    "                    path.append(s[start:end])\n",
    "                    backtrack(end, path)\n",
    "                    path.pop()\n",
    "\n",
    "        res = []\n",
    "        backtrack(0, [])\n",
    "        return res\n"
   ]
  },
  {
   "cell_type": "code",
   "execution_count": 4,
   "metadata": {},
   "outputs": [],
   "source": [
    "from typing import List\n",
    "\n",
    "\n",
    "def countCompleteComponents(n: int, edges: List[List[int]]) -> int:\n",
    "    seen = set()\n",
    "    count = 0\n",
    "    graph = [set() for _ in range(n)]\n",
    "    for a,b in edges:\n",
    "        graph[a].add(b)\n",
    "        graph[b].add(a)\n",
    "\n",
    "    def dfs(node):\n",
    "        if node in seen:\n",
    "            return\n",
    "        seen.add(node)\n",
    "        for child in graph[node]:\n",
    "            dfs(child)\n",
    "    \n",
    "    for i in range(n):\n",
    "        print(i)\n",
    "        print(seen)\n",
    "        if i in seen:\n",
    "            continue\n",
    "        else:\n",
    "            count += 1\n",
    "            dfs(i)\n",
    "    \n",
    "    return count"
   ]
  },
  {
   "cell_type": "code",
   "execution_count": 5,
   "metadata": {},
   "outputs": [
    {
     "name": "stdout",
     "output_type": "stream",
     "text": [
      "0\n",
      "set()\n",
      "1\n",
      "{0, 1, 2}\n",
      "2\n",
      "{0, 1, 2}\n",
      "3\n",
      "{0, 1, 2}\n",
      "4\n",
      "{0, 1, 2, 3, 4, 5}\n",
      "5\n",
      "{0, 1, 2, 3, 4, 5}\n"
     ]
    },
    {
     "data": {
      "text/plain": [
       "2"
      ]
     },
     "execution_count": 5,
     "metadata": {},
     "output_type": "execute_result"
    }
   ],
   "source": [
    "n=6\n",
    "edges = [[0,1],[0,2],[1,2],[3,4],[3,5]]\n",
    "\n",
    "countCompleteComponents(n, edges)"
   ]
  },
  {
   "cell_type": "code",
   "execution_count": 13,
   "metadata": {},
   "outputs": [
    {
     "name": "stdout",
     "output_type": "stream",
     "text": [
      "[('a', 1), ('c', 2), ('b', 3)]\n"
     ]
    },
    {
     "data": {
      "text/plain": [
       "'a'"
      ]
     },
     "execution_count": 13,
     "metadata": {},
     "output_type": "execute_result"
    }
   ],
   "source": [
    "map = {'b': 3, 'a': 1, 'c': 2}\n",
    "\n",
    "sorted_map = sorted(map.items(), key=lambda x:x[1])\n",
    "print(sorted_map)\n",
    "sorted_map[0][0]"
   ]
  },
  {
   "cell_type": "code",
   "execution_count": 18,
   "metadata": {},
   "outputs": [
    {
     "data": {
      "text/plain": [
       "['b', 'a', 'c']"
      ]
     },
     "execution_count": 18,
     "metadata": {},
     "output_type": "execute_result"
    }
   ],
   "source": [
    "from typing import List\n",
    "\n",
    "map = {'b': 3, 'a': 1, 'c': 2}\n",
    "list(map.keys())"
   ]
  },
  {
   "cell_type": "code",
   "execution_count": 19,
   "metadata": {},
   "outputs": [
    {
     "name": "stdout",
     "output_type": "stream",
     "text": [
      "[1, 2, 3]\n"
     ]
    }
   ],
   "source": [
    "a = [1,2,3]\n",
    "print(a[:7])"
   ]
  },
  {
   "cell_type": "code",
   "execution_count": 24,
   "metadata": {},
   "outputs": [],
   "source": [
    "def topKFrequent(nums: List[int], k: int) -> List[int]:\n",
    "    map = {}\n",
    "    heap = []\n",
    "    for num in nums:\n",
    "        if num not in map:\n",
    "            map[num] = 0\n",
    "        map[num]+=1\n",
    "\n",
    "    sorted_map = sorted(map.items(), key=lambda x:-x[1])\n",
    "\n",
    "    print(sorted_map)\n",
    "\n",
    "    return [x[0] for x in sorted_map[:k]]"
   ]
  },
  {
   "cell_type": "code",
   "execution_count": 25,
   "metadata": {},
   "outputs": [
    {
     "name": "stdout",
     "output_type": "stream",
     "text": [
      "[(1, 3), (2, 2), (3, 1)]\n"
     ]
    },
    {
     "data": {
      "text/plain": [
       "[1, 2]"
      ]
     },
     "execution_count": 25,
     "metadata": {},
     "output_type": "execute_result"
    }
   ],
   "source": [
    "nums = [1,1,1,2,2,3]\n",
    "k = 2\n",
    "topKFrequent(nums, k)"
   ]
  },
  {
   "cell_type": "code",
   "execution_count": 31,
   "metadata": {},
   "outputs": [],
   "source": [
    "import heapq\n",
    "\n",
    "def topKFrequent(nums: List[int], k: int) -> List[int]:\n",
    "    map = {}\n",
    "    for num in nums:\n",
    "        if num not in map:\n",
    "            map[num] = 0\n",
    "        map[num]+=1\n",
    "\n",
    "    heap = []\n",
    "\n",
    "    for key in map:\n",
    "        if len(heap)<k:\n",
    "            heapq.heappush(heap, (map[key], key))\n",
    "            continue\n",
    "        if heap[0][0] < map[key]:\n",
    "            heapq.heappushpop(heap, (map[key], key))\n",
    "\n",
    "    print(heap)\n",
    "    \n",
    "    return [x[1] for x in heap]"
   ]
  },
  {
   "cell_type": "code",
   "execution_count": 30,
   "metadata": {},
   "outputs": [
    {
     "name": "stdout",
     "output_type": "stream",
     "text": [
      "[(2, 2), (3, 1)]\n"
     ]
    },
    {
     "data": {
      "text/plain": [
       "[2, 3]"
      ]
     },
     "execution_count": 30,
     "metadata": {},
     "output_type": "execute_result"
    }
   ],
   "source": [
    "nums = [1,1,1,2,2,3]\n",
    "k = 2\n",
    "topKFrequent(nums, k)"
   ]
  },
  {
   "cell_type": "code",
   "execution_count": 8,
   "metadata": {},
   "outputs": [],
   "source": [
    "def help(num:int)->int:\n",
    "    res = 0\n",
    "    while num:\n",
    "        res += num%10\n",
    "        num //= 10\n",
    "    return res\n",
    "\n",
    "def sum_fun(num:int)->int:\n",
    "    while num>10:\n",
    "        num = help(num)\n",
    "    return num"
   ]
  },
  {
   "cell_type": "code",
   "execution_count": 9,
   "metadata": {},
   "outputs": [
    {
     "data": {
      "text/plain": [
       "6"
      ]
     },
     "execution_count": 9,
     "metadata": {},
     "output_type": "execute_result"
    }
   ],
   "source": [
    "sum_fun(456)"
   ]
  }
 ],
 "metadata": {
  "kernelspec": {
   "display_name": ".venv",
   "language": "python",
   "name": "python3"
  },
  "language_info": {
   "codemirror_mode": {
    "name": "ipython",
    "version": 3
   },
   "file_extension": ".py",
   "mimetype": "text/x-python",
   "name": "python",
   "nbconvert_exporter": "python",
   "pygments_lexer": "ipython3",
   "version": "3.12.9"
  }
 },
 "nbformat": 4,
 "nbformat_minor": 2
}
