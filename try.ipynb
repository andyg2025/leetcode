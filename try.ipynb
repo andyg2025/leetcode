{
 "cells": [
  {
   "cell_type": "code",
   "execution_count": 7,
   "metadata": {},
   "outputs": [],
   "source": [
    "from typing import List\n",
    "\n",
    "def binary_search(cap_index: List, target:int)->int:\n",
    "    l, r = 0, len(cap_index)\n",
    "    while l<r:\n",
    "        mid = (l+r)//2\n",
    "        if cap_index[mid] < target:\n",
    "            l = mid+1\n",
    "        else:\n",
    "            r = mid\n",
    "    return l"
   ]
  },
  {
   "cell_type": "code",
   "execution_count": 8,
   "metadata": {},
   "outputs": [
    {
     "data": {
      "text/plain": [
       "3"
      ]
     },
     "execution_count": 8,
     "metadata": {},
     "output_type": "execute_result"
    }
   ],
   "source": [
    "cap_index = [1,2,3,4,4,4,4,4,4,4,4,4,4,4,5]\n",
    "res = binary_search(cap_index, 4)\n",
    "res"
   ]
  },
  {
   "cell_type": "code",
   "execution_count": 46,
   "metadata": {},
   "outputs": [],
   "source": [
    "import heapq"
   ]
  },
  {
   "cell_type": "code",
   "execution_count": null,
   "metadata": {},
   "outputs": [],
   "source": [
    "import heapq\n",
    "\n",
    "def findMaxSum(nums1, nums2, k):\n",
    "            new_nums = [[value, index] for index, value in enumerate(nums1)]\n",
    "            new_nums.sort()\n",
    "            result = [0] * len(nums1)\n",
    "            temp = []\n",
    "            cur_sum = 0\n",
    "            heap = []\n",
    "\n",
    "            for val, i in new_nums:\n",
    "                if not temp:\n",
    "                    temp = [i]\n",
    "                    continue\n",
    "                if nums1[temp[0]] == val:\n",
    "                    temp.append(i)\n",
    "                    result[i] = cur_sum\n",
    "                else:\n",
    "                    for index in temp:\n",
    "                        if len(heap) == k and heap[0] > nums2[index]:\n",
    "                            continue\n",
    "                        heapq.heappush(heap, nums2[index])\n",
    "                        cur_sum += nums2[index]\n",
    "                        if len(heap) > k:\n",
    "                            cur_sum -= heapq.heappop(heap)\n",
    "\n",
    "                    # for index in temp:\n",
    "                    #     heapq.heappush(heap, nums2[index])\n",
    "                    #     cur_sum+=nums2[index]\n",
    "                    # while len(heap) > k:\n",
    "                    #     cur_sum -= heapq.heappop(heap)\n",
    "                    \n",
    "                    result[i] = cur_sum\n",
    "                    temp = [i]\n",
    "\n",
    "            return result"
   ]
  },
  {
   "cell_type": "code",
   "execution_count": 19,
   "metadata": {},
   "outputs": [
    {
     "data": {
      "text/plain": [
       "[80, 30, 0, 80, 50]"
      ]
     },
     "execution_count": 19,
     "metadata": {},
     "output_type": "execute_result"
    }
   ],
   "source": [
    "nums1 = [4,2,1,5,3]\n",
    "nums2 = [10,20,30,40,50]\n",
    "k = 2\n",
    "\n",
    "\n",
    "result = findMaxSum(nums1, nums2, k)\n",
    "result"
   ]
  },
  {
   "cell_type": "code",
   "execution_count": 4,
   "metadata": {},
   "outputs": [],
   "source": [
    "def help(n, c):\n",
    "    result = 1\n",
    "    for i in range(0, n):\n",
    "        result *= (c-i)\n",
    "        result //= i+1\n",
    "    \n",
    "    return result"
   ]
  },
  {
   "cell_type": "code",
   "execution_count": 9,
   "metadata": {},
   "outputs": [
    {
     "data": {
      "text/plain": [
       "20"
      ]
     },
     "execution_count": 9,
     "metadata": {},
     "output_type": "execute_result"
    }
   ],
   "source": [
    "res = help(3, 6)\n",
    "res"
   ]
  },
  {
   "cell_type": "code",
   "execution_count": 1,
   "metadata": {},
   "outputs": [
    {
     "name": "stdout",
     "output_type": "stream",
     "text": [
      "1 5\n"
     ]
    }
   ],
   "source": [
    "a = [1, 5]\n",
    "l, r = a\n",
    "print(l, r)"
   ]
  },
  {
   "cell_type": "code",
   "execution_count": 4,
   "metadata": {},
   "outputs": [],
   "source": [
    "def help(arr):\n",
    "    newarr = a[:]\n",
    "    newarr.append(1)\n",
    "    arr = newarr[:]\n"
   ]
  },
  {
   "cell_type": "code",
   "execution_count": 7,
   "metadata": {},
   "outputs": [],
   "source": [
    "arr = [1,2]\n",
    "\n",
    "def help():\n",
    "    arr.append(9)\n",
    "    return arr"
   ]
  },
  {
   "cell_type": "code",
   "execution_count": null,
   "metadata": {},
   "outputs": [
    {
     "name": "stdout",
     "output_type": "stream",
     "text": [
      "[1, 2, 9]\n"
     ]
    }
   ],
   "source": []
  },
  {
   "cell_type": "code",
   "execution_count": 9,
   "metadata": {},
   "outputs": [
    {
     "data": {
      "text/plain": [
       "{1, 2}"
      ]
     },
     "execution_count": 9,
     "metadata": {},
     "output_type": "execute_result"
    }
   ],
   "source": [
    "a = set()\n",
    "a.add(1)\n",
    "a.add(2)\n",
    "a"
   ]
  },
  {
   "cell_type": "code",
   "execution_count": 10,
   "metadata": {},
   "outputs": [
    {
     "data": {
      "text/plain": [
       "{1}"
      ]
     },
     "execution_count": 10,
     "metadata": {},
     "output_type": "execute_result"
    }
   ],
   "source": [
    "a.remove(2)\n",
    "a"
   ]
  },
  {
   "cell_type": "code",
   "execution_count": 25,
   "metadata": {},
   "outputs": [
    {
     "data": {
      "text/plain": [
       "[6]"
      ]
     },
     "execution_count": 25,
     "metadata": {},
     "output_type": "execute_result"
    }
   ],
   "source": [
    "a = [5,6,7]\n",
    "b = [5,7]\n",
    "for n in b:\n",
    "    a.remove(n)\n",
    "a"
   ]
  },
  {
   "cell_type": "code",
   "execution_count": 28,
   "metadata": {},
   "outputs": [],
   "source": [
    "from typing import List\n",
    "def numIslands2(m: int, n: int, positions: List[List[int]]) -> List[int]:\n",
    "    islands = []\n",
    "    result = []\n",
    "    \n",
    "    for r, c in positions:\n",
    "        newisland = set()\n",
    "        removed = []\n",
    "        print(islands)\n",
    "        for island in islands:\n",
    "            if (r,c) in island or (r-1>=0 and (r-1, c) in island) or (r+1<m and (r+1, c) in island) or (c-1>=0 and (r, c-1) in island) or (c+1<n and (r, c+1) in island):\n",
    "                print('check ok!')\n",
    "                newisland |= island\n",
    "                removed.append(island)\n",
    "\n",
    "        for island in removed:\n",
    "            islands.remove(island)\n",
    "\n",
    "        newisland.add((r,c))\n",
    "        islands.append(newisland)\n",
    "        result.append(len(islands))\n",
    "\n",
    "    return result"
   ]
  },
  {
   "cell_type": "code",
   "execution_count": 29,
   "metadata": {},
   "outputs": [
    {
     "name": "stdout",
     "output_type": "stream",
     "text": [
      "[]\n",
      "[{(0, 0)}]\n",
      "check ok!\n",
      "[{(0, 1), (0, 0)}]\n",
      "[{(0, 1), (0, 0)}, {(1, 2)}]\n"
     ]
    },
    {
     "data": {
      "text/plain": [
       "[1, 1, 2, 3]"
      ]
     },
     "execution_count": 29,
     "metadata": {},
     "output_type": "execute_result"
    }
   ],
   "source": [
    "positions =[[0,0],[0,1],[1,2],[2,1]]\n",
    "m=3\n",
    "n=3\n",
    "res = numIslands2(m, n, positions)\n",
    "res"
   ]
  },
  {
   "cell_type": "code",
   "execution_count": 41,
   "metadata": {},
   "outputs": [],
   "source": [
    "from typing import List\n",
    "\n",
    "class Node:\n",
    "    def __init__(self, position: tuple[int, int]):\n",
    "        self.position = position\n",
    "        self.parent = None\n",
    "\n",
    "class Solution:\n",
    "    def get_parent(self, node: Node):\n",
    "        while node.parent:\n",
    "            node = node.parent\n",
    "        return node\n",
    "\n",
    "    def numIslands2(self, m: int, n: int, positions: List[List[int]]) -> List[int]:\n",
    "        result = []\n",
    "        p_node = {}\n",
    "        count = 0\n",
    "\n",
    "        for x,y in positions:\n",
    "            print('position:', x, y)\n",
    "            if (x,y) in p_node:\n",
    "                result.append(count)\n",
    "                continue\n",
    "\n",
    "            new_node = Node((x,y))\n",
    "            p_node[(x,y)] = new_node\n",
    "            count += 1\n",
    "\n",
    "            connected = set()\n",
    "\n",
    "            for x1, y1 in [ (x+1, y), (x-1, y), (x, y+1), (x, y-1)]:\n",
    "                if x1<0 or x1>=m or y1<0 or y1>=n or (x1, y1) not in p_node:\n",
    "                    continue\n",
    "\n",
    "                cur_node = p_node[(x1,y1)]\n",
    "                cur_parent = self.get_parent(cur_node)\n",
    "                connected.add(cur_parent)\n",
    "                print(cur_parent.position)\n",
    "            \n",
    "            count -= len(connected)\n",
    "            result.append(count)\n",
    "\n",
    "            for node in connected:\n",
    "                node.parent = new_node\n",
    "            \n",
    "        return result"
   ]
  },
  {
   "cell_type": "code",
   "execution_count": 42,
   "metadata": {},
   "outputs": [
    {
     "name": "stdout",
     "output_type": "stream",
     "text": [
      "position: 0 0\n",
      "position: 0 1\n",
      "(0, 0)\n",
      "position: 1 2\n",
      "position: 1 2\n"
     ]
    },
    {
     "data": {
      "text/plain": [
       "[1, 1, 2, 2]"
      ]
     },
     "execution_count": 42,
     "metadata": {},
     "output_type": "execute_result"
    }
   ],
   "source": [
    "positions =[[0,0],[0,1],[1,2],[1,2]]\n",
    "m=3\n",
    "n=3\n",
    "s = Solution()\n",
    "res = s.numIslands2(m, n, positions)\n",
    "res"
   ]
  },
  {
   "cell_type": "code",
   "execution_count": null,
   "metadata": {},
   "outputs": [],
   "source": [
    "from typing import List\n",
    "\n",
    "def findMinHeightTrees(n: int, edges: List[List[int]]) -> List[int]:\n",
    "    grap = [set() for _ in range(n)]\n",
    "    for a,b in edges:\n",
    "        grap[a].add(b)\n",
    "        grap[b].add(a)\n",
    "\n",
    "    memory = {}\n",
    "\n",
    "    def get_hight(node):\n",
    "        hight = 0\n",
    "        for n in grap[node]:\n",
    "            cur_hight = 0\n",
    "            if (node, n) in memory:\n",
    "                hight =  memory[(node, n)]\n",
    "            else:\n",
    "                grap[n].remove(node)\n",
    "                cur_hight = get_hight(n)\n",
    "                memory[(node, n)] = cur_hight\n",
    "                grap[n].add(node)\n",
    "            hight = max(hight, cur_hight)\n",
    "        return hight+1\n",
    "    \n",
    "    min_hight = n+1\n",
    "    nodes = []\n",
    "    for i in range(n):\n",
    "        hight = get_hight(i)\n",
    "        if hight==min_hight:\n",
    "            nodes.append(i)\n",
    "        elif hight<min_hight:\n",
    "            min_hight = hight\n",
    "            nodes=[i]\n",
    "    \n",
    "    return nodes"
   ]
  },
  {
   "cell_type": "code",
   "execution_count": 20,
   "metadata": {},
   "outputs": [
    {
     "name": "stdout",
     "output_type": "stream",
     "text": [
      "grah[node]:\n",
      "{1}\n",
      "grah[node]:\n",
      "{2, 3}\n",
      "grah[node]:\n",
      "set()\n",
      "grah[node]:\n",
      "set()\n",
      "{(1, 2): 1, (1, 3): 1, (0, 1): 2}\n",
      "grah[node]:\n",
      "{0, 2, 3}\n",
      "grah[node]:\n",
      "set()\n",
      "{(1, 2): 1, (1, 3): 1, (0, 1): 2, (1, 0): 1}\n",
      "grah[node]:\n",
      "{1}\n",
      "grah[node]:\n",
      "{0, 3}\n",
      "{(1, 2): 1, (1, 3): 1, (0, 1): 2, (1, 0): 1, (2, 1): 2}\n",
      "grah[node]:\n",
      "{1}\n",
      "grah[node]:\n",
      "{0, 2}\n",
      "{(1, 2): 1, (1, 3): 1, (0, 1): 2, (1, 0): 1, (2, 1): 2, (3, 1): 2}\n"
     ]
    },
    {
     "data": {
      "text/plain": [
       "[1]"
      ]
     },
     "execution_count": 20,
     "metadata": {},
     "output_type": "execute_result"
    }
   ],
   "source": [
    "n = 4\n",
    "edges = [[1,0],[1,2],[1,3]]\n",
    "findMinHeightTrees(n, edges)"
   ]
  },
  {
   "cell_type": "code",
   "execution_count": 26,
   "metadata": {},
   "outputs": [],
   "source": [
    "from typing import List\n",
    "\n",
    "def findMinHeightTrees(n: int, edges: List[List[int]]) -> List[int]:\n",
    "    \n",
    "    graph = [set() for _ in range(n)]\n",
    "\n",
    "    for a,b in edges:\n",
    "        graph[a].add(b)\n",
    "        graph[b].add(a)\n",
    "\n",
    "    print(graph)\n",
    "\n",
    "    leaves = [ node for node in range(n) if len(graph[node])==1 ]\n",
    "\n",
    "    num_left_node = n\n",
    "    while n>3:\n",
    "        n-=len(leaves)\n",
    "        new_leaves = []\n",
    "        for leaf in leaves:\n",
    "            pre = graph[leaf].pop()\n",
    "            graph[pre].remove(leaf)\n",
    "            if len(graph[pre])==1:\n",
    "                new_leaves.append(pre)\n",
    "\n",
    "        leaves = new_leaves[:]\n",
    "\n",
    "    return leaves"
   ]
  },
  {
   "cell_type": "code",
   "execution_count": 27,
   "metadata": {},
   "outputs": [
    {
     "name": "stdout",
     "output_type": "stream",
     "text": [
      "[{1}, {0, 2, 3}, {1}, {1}]\n"
     ]
    },
    {
     "data": {
      "text/plain": [
       "[1]"
      ]
     },
     "execution_count": 27,
     "metadata": {},
     "output_type": "execute_result"
    }
   ],
   "source": [
    "n = 4\n",
    "edges = [[1,0],[1,2],[1,3]]\n",
    "findMinHeightTrees(n, edges)"
   ]
  }
 ],
 "metadata": {
  "kernelspec": {
   "display_name": ".venv",
   "language": "python",
   "name": "python3"
  },
  "language_info": {
   "codemirror_mode": {
    "name": "ipython",
    "version": 3
   },
   "file_extension": ".py",
   "mimetype": "text/x-python",
   "name": "python",
   "nbconvert_exporter": "python",
   "pygments_lexer": "ipython3",
   "version": "3.12.9"
  }
 },
 "nbformat": 4,
 "nbformat_minor": 2
}
